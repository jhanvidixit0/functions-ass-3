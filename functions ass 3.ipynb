{
  "cells": [
    {
      "cell_type": "markdown",
      "metadata": {
        "id": "SudmBNTTVv7f"
      },
      "source": [
        "1. What is the difference between a function and a method in Python?\n"
      ]
    },
    {
      "cell_type": "markdown",
      "metadata": {
        "id": "Dat7b9JpV1Bc"
      },
      "source": [
        "Function - A function is a block of code that is defined independently and can be called from anywhere in the code. It performs a specific task and can return a value.\n",
        "Syntax of function is def.\n",
        "\n",
        "Method -A method is a function that is associated with an object. It is defined within a class and is intended to operate on instances of that class.\n",
        "Syntax of method is self\n",
        "\n",
        "Association - Functions are independent, while methods are associated with objects (instances of a class).\n",
        "\n",
        "Calling - Functions are called directly, while methods are called on objects."
      ]
    },
    {
      "cell_type": "code",
      "execution_count": null,
      "metadata": {
        "colab": {
          "base_uri": "https://localhost:8080/"
        },
        "id": "i72Voz_jWpQ7",
        "outputId": "0e36eeed-fc7e-4809-a759-109244f47593"
      },
      "outputs": [
        {
          "name": "stdout",
          "output_type": "stream",
          "text": [
            "This is a function.\n",
            "This is a method.\n"
          ]
        }
      ],
      "source": [
        "#Example of function\n",
        "def my_function():\n",
        "    print(\"This is a function.\")\n",
        "\n",
        "my_function()\n",
        "\n",
        "#Example of method\n",
        "class MyClass:\n",
        "    def my_method(self):\n",
        "        print(\"This is a method.\")\n",
        "\n",
        "obj = MyClass()\n",
        "obj.my_method()\n"
      ]
    },
    {
      "cell_type": "markdown",
      "metadata": {
        "id": "SrzHCZsqXlFU"
      },
      "source": [
        "2. Explain the concept of function arguments and parameters in Python."
      ]
    },
    {
      "cell_type": "markdown",
      "metadata": {
        "id": "U9X9zUFqXyS5"
      },
      "source": [
        " Parameters - Parameters are the variables that are listed inside the parentheses in the function definition. They act as placeholders for the values that will be passed to the function when it is called.\n",
        "\n",
        " Arguments - Arguments are the actual values or data that you pass into the function when you call it. These values are assigned to the corresponding parameters in the function definition.\n"
      ]
    },
    {
      "cell_type": "code",
      "execution_count": null,
      "metadata": {
        "colab": {
          "base_uri": "https://localhost:8080/"
        },
        "id": "-6lLuBlPYbPY",
        "outputId": "83c9bec1-dcbe-4571-b7a9-e1e0b9bbf723"
      },
      "outputs": [
        {
          "name": "stdout",
          "output_type": "stream",
          "text": [
            "Hello, hello!\n"
          ]
        }
      ],
      "source": [
        "#Example of parameters\n",
        "def greet(name):\n",
        "    print(f\"Hello, {name}!\")\n",
        "\n",
        "\n",
        " #Example of Argument\n",
        "greet(\"hello\")\n",
        "\n"
      ]
    },
    {
      "cell_type": "markdown",
      "metadata": {
        "id": "0htvJNN9YzRL"
      },
      "source": [
        "3. What are the different ways to define and call a function in Python?"
      ]
    },
    {
      "cell_type": "code",
      "execution_count": null,
      "metadata": {
        "colab": {
          "base_uri": "https://localhost:8080/"
        },
        "id": "yiyYbw63ZoGw",
        "outputId": "f59c98f1-9581-440c-e14c-bd4b5e7cbcde"
      },
      "outputs": [
        {
          "name": "stdout",
          "output_type": "stream",
          "text": [
            "Hello, Shivam!\n"
          ]
        }
      ],
      "source": [
        "# Function with Parameters\n",
        "# A function can take parameters to operate on specific data.\n",
        "# Calling - Pass the required arguments when calling the function.\n",
        "\n",
        "def greet(name):\n",
        "    print(f\"Hello, {name}!\")\n",
        "\n",
        "greet(\"Shivam\")\n"
      ]
    },
    {
      "cell_type": "code",
      "execution_count": null,
      "metadata": {
        "colab": {
          "base_uri": "https://localhost:8080/"
        },
        "id": "INVqx55QZ2Ty",
        "outputId": "d259a711-d1a0-47a5-d389-ec4f6ff769b3"
      },
      "outputs": [
        {
          "name": "stdout",
          "output_type": "stream",
          "text": [
            "Hello, World!\n"
          ]
        }
      ],
      "source": [
        "# Basic Function Definition and Call\n",
        "# A basic function is defined using the def keyword, followed by the function name, parameters (if any), and the function body.\n",
        "# Calling: The function is called by its name followed by parentheses, optionally passing arguments.\n",
        "\n",
        "def greet():\n",
        "    print(\"Hello, World!\")\n",
        "\n",
        "greet()\n",
        "\n",
        "\n"
      ]
    },
    {
      "cell_type": "code",
      "execution_count": null,
      "metadata": {
        "colab": {
          "base_uri": "https://localhost:8080/"
        },
        "id": "rqv7IV-waSna",
        "outputId": "9c04f5a3-2806-4ad6-dcd6-6f11300805f9"
      },
      "outputs": [
        {
          "name": "stdout",
          "output_type": "stream",
          "text": [
            "Hello, Guest!\n",
            "Hello, Shivam!\n"
          ]
        }
      ],
      "source": [
        "# Function with Default Parameters\n",
        "# Functions can have default parameter values, which are used if no argument is passed.\n",
        "# Calling: You can call the function with or without passing the argument.\n",
        "\n",
        "def greet(name=\"Guest\"):\n",
        "    print(f\"Hello, {name}!\")\n",
        "\n",
        "greet()\n",
        "greet(\"Shivam\")"
      ]
    },
    {
      "cell_type": "code",
      "execution_count": null,
      "metadata": {
        "colab": {
          "base_uri": "https://localhost:8080/"
        },
        "id": "UUxB8EFoakYM",
        "outputId": "0ce13692-d5ad-4493-ec53-d205bff1f48a"
      },
      "outputs": [
        {
          "name": "stdout",
          "output_type": "stream",
          "text": [
            "25\n",
            "7\n"
          ]
        }
      ],
      "source": [
        "# Lambda (Anonymous) Functions\n",
        "# Definition: Lambda functions are small, anonymous functions defined using the lambda keyword. They can take any number of arguments but have only one expression.\n",
        "# Calling: Lambda functions are usually called immediately or assigned to a variable.\n",
        "\n",
        "square = lambda x: x ** 2\n",
        "print(square(5))\n",
        "\n",
        "print((lambda x, y: x + y)(3, 4))"
      ]
    },
    {
      "cell_type": "markdown",
      "metadata": {
        "id": "YVLhmQbsa4r8"
      },
      "source": [
        "4. What is the purpose of the `return` statement in a Python function?"
      ]
    },
    {
      "cell_type": "markdown",
      "metadata": {
        "id": "Gi6ohAE-bJBu"
      },
      "source": [
        "The return statement in a Python function is used to exit the function and optionally pass back a value (or multiple values) to the caller.\n",
        "\n",
        "The primary purpose of the return statement is to return a value from a function to the part of the code that called the function. This allows the function to produce a result that can be used elsewhere in the program.\n",
        "\n",
        "return statement: Ends the function's execution and optionally sends a value back to the caller.\n",
        "Returning values: Enables functions to pass results to other parts of the program.\n",
        "Multiple returns: Python functions can return multiple values as tuples."
      ]
    },
    {
      "cell_type": "code",
      "execution_count": null,
      "metadata": {
        "colab": {
          "base_uri": "https://localhost:8080/"
        },
        "id": "Xp_ZLcCqbXh8",
        "outputId": "7c51964e-87aa-48dc-91b6-f1a6a88de81c"
      },
      "outputs": [
        {
          "name": "stdout",
          "output_type": "stream",
          "text": [
            "7\n"
          ]
        }
      ],
      "source": [
        "def add(a, b):\n",
        "    return a + b\n",
        "\n",
        "result = add(3, 4)\n",
        "print(result)\n"
      ]
    },
    {
      "cell_type": "markdown",
      "metadata": {
        "id": "bgRX0_01biDd"
      },
      "source": [
        "5. What are iterators in Python and how do they differ from iterables?\n",
        "\n"
      ]
    },
    {
      "cell_type": "markdown",
      "metadata": {
        "id": "dVX8npK0b3mx"
      },
      "source": [
        "Iterator - An iterator is an object that represents a stream of data. It is an object that can be iterated upon, meaning you can traverse through all the values. An iterator is created from an iterable using the iter() function.\n",
        "\n",
        "Examples: Any object with a __next__() method is an iterator. This method returns the next item in the sequence and raises a StopIteration exception when there are no more items."
      ]
    },
    {
      "cell_type": "code",
      "execution_count": null,
      "metadata": {
        "colab": {
          "base_uri": "https://localhost:8080/"
        },
        "id": "E_wZugq0b6l6",
        "outputId": "dd381713-a2d9-4776-a580-52d0496ff122"
      },
      "outputs": [
        {
          "name": "stdout",
          "output_type": "stream",
          "text": [
            "1\n",
            "2\n",
            "3\n"
          ]
        }
      ],
      "source": [
        "#Example of iterator\n",
        "my_list = [1, 2, 3]\n",
        "iterator = iter(my_list)\n",
        "\n",
        "print(next(iterator))\n",
        "print(next(iterator))\n",
        "print(next(iterator))\n"
      ]
    },
    {
      "cell_type": "markdown",
      "metadata": {
        "id": "CduLb0mYcHfl"
      },
      "source": [
        " Iterable - An iterable is any Python object that can return its elements one at a time. In other words, an iterable is an object that you can loop over (such as in a for loop).\n",
        "\n",
        "Examples: Lists, tuples, strings, dictionaries, and sets are all iterables."
      ]
    },
    {
      "cell_type": "code",
      "execution_count": null,
      "metadata": {
        "colab": {
          "base_uri": "https://localhost:8080/"
        },
        "id": "53_9OPI8cXQZ",
        "outputId": "affaedbe-c478-4181-8798-3b162dba7f2f"
      },
      "outputs": [
        {
          "name": "stdout",
          "output_type": "stream",
          "text": [
            "1\n",
            "2\n",
            "3\n"
          ]
        }
      ],
      "source": [
        "#Example of iterable\n",
        "my_list = [1, 2, 3]\n",
        "for item in my_list:\n",
        "    print(item)\n"
      ]
    },
    {
      "cell_type": "markdown",
      "metadata": {
        "id": "AOJvxtWOcg2j"
      },
      "source": [
        "6. Explain the concept of generators in Python and how they are defined."
      ]
    },
    {
      "cell_type": "markdown",
      "metadata": {
        "id": "OBrGLhyhc74u"
      },
      "source": [
        "Generators in Python are a special type of iterator that allows you to iterate over a sequence of values lazily (i.e., one at a time, only when needed) instead of computing them all at once and holding them in memory. This makes generators particularly useful for working with large datasets or streams of data where you don't want to load everything into memory at once.\n",
        "\n",
        "Defined using a function with one or more yield statements instead of return.\n"
      ]
    },
    {
      "cell_type": "code",
      "execution_count": null,
      "metadata": {
        "colab": {
          "base_uri": "https://localhost:8080/"
        },
        "id": "-6Kb2RvOdK8a",
        "outputId": "3b8c0948-b1b8-4120-8eb1-f4391f936506"
      },
      "outputs": [
        {
          "name": "stdout",
          "output_type": "stream",
          "text": [
            "1\n",
            "2\n",
            "3\n",
            "4\n",
            "5\n"
          ]
        }
      ],
      "source": [
        "def count_up_to(max):\n",
        "    count = 1\n",
        "    while count <= max:\n",
        "        yield count\n",
        "        count += 1\n",
        "\n",
        "counter = count_up_to(5)\n",
        "\n",
        "for num in counter:\n",
        "    print(num)\n"
      ]
    },
    {
      "cell_type": "markdown",
      "metadata": {
        "id": "UBl2NSradN8R"
      },
      "source": [
        "7. What are the advantages of using generators over regular functions?"
      ]
    },
    {
      "cell_type": "markdown",
      "metadata": {
        "id": "m8SSSoxKgkwU"
      },
      "source": [
        "Advantages of using generators over regular functions are :-\n",
        "\n",
        "Memory Efficiency -Lazy Evaluation: Generators generate values on-the-fly, one at a time, rather than computing and storing an entire sequence in memory at once. This is particularly beneficial when working with large datasets, infinite sequences, or data streams.\n",
        "\n",
        "Improved Performance\n",
        "No Need to Compute Everything Upfront: Generators only compute values when they are needed, which can result in significant performance improvements, especially in large loops or complex calculations.\n",
        "\n",
        "Cleaner and More Readable Code\n",
        "Simplifies Complex Iteration: Generators allow you to write code in a linear, readable fashion, especially when dealing with complex loops or stateful iterations. They help avoid using and managing temporary lists or other auxiliary structures\n",
        "\n",
        "Pipelining: Facilitates chaining of data processing steps.\n",
        "Stateful Iteration: Maintains state across multiple iterations without extra overhead.\n",
        "Error Handling: Simplifies managing the end of sequences and iteration-related exceptions"
      ]
    },
    {
      "cell_type": "code",
      "execution_count": null,
      "metadata": {
        "colab": {
          "base_uri": "https://localhost:8080/"
        },
        "id": "f8f7za9HhBv_",
        "outputId": "ca7c57cb-9334-469a-add4-ffac5feab218"
      },
      "outputs": [
        {
          "name": "stdout",
          "output_type": "stream",
          "text": [
            "<generator object generate_numbers at 0x7dedd41cbd80>\n"
          ]
        }
      ],
      "source": [
        "# Example\n",
        "def generate_numbers(n):\n",
        "    for i in range(n):\n",
        "        yield i\n",
        "\n",
        "gen = generate_numbers(1000000)\n",
        "print(gen)"
      ]
    },
    {
      "cell_type": "markdown",
      "metadata": {
        "id": "qzGbOkvUh-DM"
      },
      "source": [
        "8. What is a lambda function in Python and when is it typically used?"
      ]
    },
    {
      "cell_type": "markdown",
      "metadata": {
        "id": "Iprh_ZpOkSsR"
      },
      "source": [
        "A lambda function in Python is a small, anonymous function defined using the lambda keyword. Unlike regular functions, which are defined using the def keyword, lambda functions are used for creating simple functions in a concise and readable manner. They are often used in situations where a function is needed temporarily and is not complex enough to warrant a full function definition.\n",
        "syntax of lambda - lambda arguments: expression\n",
        "\n",
        "Typical Use Cases for Lambda Functions\n",
        "\n",
        " As Arguments to Higher-Order Functions - Lambda functions are frequently passed as arguments to functions like map(), filter(), and sorted(), where a function is required for processing or evaluating element.\n",
        "\n"
      ]
    },
    {
      "cell_type": "code",
      "execution_count": null,
      "metadata": {
        "colab": {
          "base_uri": "https://localhost:8080/"
        },
        "id": "y2tzAhgDkdY7",
        "outputId": "efa6b00a-0e62-41d8-d467-1b1f42811085"
      },
      "outputs": [
        {
          "name": "stdout",
          "output_type": "stream",
          "text": [
            "5\n"
          ]
        }
      ],
      "source": [
        "\n",
        "def add(x, y):\n",
        "    return x + y\n",
        "\n",
        "add_lambda = lambda x, y: x + y\n",
        "\n",
        "print(add_lambda(2, 3))\n"
      ]
    },
    {
      "cell_type": "markdown",
      "metadata": {
        "id": "CakEfvBjlTaO"
      },
      "source": [
        "9. Explain the purpose and usage of the `map()` function in Python."
      ]
    },
    {
      "cell_type": "markdown",
      "metadata": {
        "id": "yzD0K366mUDV"
      },
      "source": [
        "The map() function in Python is a built-in function used to apply a specified function to each item of an iterable (such as a list, tuple, or string) and return a map object (which is an iterator) with the results. It is a convenient way to transform data without needing to write an explicit loop.\n",
        "\n",
        "Purpose of the map() Function:\n",
        "The primary purpose of map() is to apply a function to all items in an iterable in a clean and efficient manner. This is especially useful for operations where you want to perform the same transformation or computation on each element in a sequence.Syntax is map(function, iterable, ...)"
      ]
    },
    {
      "cell_type": "code",
      "execution_count": null,
      "metadata": {
        "colab": {
          "base_uri": "https://localhost:8080/"
        },
        "id": "-H9nRunSnyNA",
        "outputId": "30754943-d26a-49ba-8904-e59a6b571f42"
      },
      "outputs": [
        {
          "name": "stdout",
          "output_type": "stream",
          "text": [
            "['1', '2', '3', '4', '5']\n",
            "[5, 7, 9]\n"
          ]
        }
      ],
      "source": [
        "numbers = [1, 2, 3, 4, 5]\n",
        "result = map(str, numbers)\n",
        "print(list(result))\n",
        "\n",
        "\n",
        "numbers1 = [1, 2, 3]\n",
        "numbers2 = [4, 5, 6]\n",
        "result = map(lambda x, y: x + y, numbers1, numbers2)\n",
        "print(list(result))\n"
      ]
    },
    {
      "cell_type": "markdown",
      "metadata": {
        "id": "gHHu_a41pCp-"
      },
      "source": [
        "10. What is the difference between `map()`, `reduce()`, and `filter()` functions in Python?"
      ]
    },
    {
      "cell_type": "markdown",
      "metadata": {
        "id": "dqlV2j_rpJaj"
      },
      "source": [
        "1. map() Function\n",
        "The map() function applies a given function to each item in one or more iterables and returns an iterator (a map object) with the results.\n",
        "\n",
        "Purpose: Transform each element of an iterable by applying a function to it.\n",
        "Input: A function and one or more iterables.\n",
        "Output: An iterator with the transformed elements.\n",
        "\n",
        "2. filter() Function\n",
        "The filter() function applies a function to each item in an iterable and returns an iterator containing only those items for which the function returns True.\n",
        "\n",
        "Purpose: Filter elements of an iterable based on a condition.\n",
        "Input: A function (that returns a boolean) and an iterable.\n",
        "Output: An iterator with elements that satisfy the condition.\n",
        "\n",
        "3. reduce() Function\n",
        "The reduce() function, found in the functools module, applies a function cumulatively to the items of an iterable, from left to right, to reduce the iterable to a single value.\n",
        "\n",
        "Purpose: Reduce an iterable to a single cumulative value by applying a binary function (one that takes two arguments).\n",
        "Input: A function and an iterable.\n",
        "Output: A single value."
      ]
    },
    {
      "cell_type": "code",
      "execution_count": null,
      "metadata": {
        "colab": {
          "base_uri": "https://localhost:8080/"
        },
        "id": "OFk0rEbDpW5v",
        "outputId": "28824c92-65e5-4597-d0a9-4c493262bcc1"
      },
      "outputs": [
        {
          "name": "stdout",
          "output_type": "stream",
          "text": [
            "[1, 4, 9, 16, 25]\n",
            "[2, 4, 6]\n",
            "120\n"
          ]
        }
      ],
      "source": [
        "#Example of map()\n",
        "numbers = [1, 2, 3, 4, 5]\n",
        "squared = map(lambda x: x * x, numbers)\n",
        "print(list(squared))\n",
        "\n",
        "\n",
        "#Example of filter()\n",
        "numbers = [1, 2, 3, 4, 5, 6]\n",
        "evens = filter(lambda x: x % 2 == 0, numbers)\n",
        "print(list(evens))\n",
        "\n",
        "\n",
        "#Example of reduce()\n",
        "\n",
        "from functools import reduce\n",
        "\n",
        "numbers = [1, 2, 3, 4, 5]\n",
        "product = reduce(lambda x, y: x * y, numbers)\n",
        "print(product)\n"
      ]
    },
    {
      "cell_type": "markdown",
      "metadata": {
        "id": "Y_B9v0svu9Mo"
      },
      "source": [
        "11. Using pen & Paper write the internal mechanism for sum operation using  reduce function on this given\n",
        "list:[47,11,42,13];"
      ]
    },
    {
      "cell_type": "code",
      "execution_count": 40,
      "metadata": {
        "id": "-mdDcuovt2j7"
      },
      "outputs": [],
      "source": [
        "from google.colab import files\n",
        "from IPython.display import Image\n"
      ]
    },
    {
      "cell_type": "code",
      "execution_count": 42,
      "metadata": {
        "colab": {
          "base_uri": "https://localhost:8080/",
          "height": 73
        },
        "id": "GjJzAFlHuPUi",
        "outputId": "b5304360-a553-49db-85ab-7787483c4458"
      },
      "outputs": [
        {
          "data": {
            "text/html": [
              "\n",
              "     <input type=\"file\" id=\"files-e0db274c-c46f-42ac-87f1-cbccf558ff20\" name=\"files[]\" multiple disabled\n",
              "        style=\"border:none\" />\n",
              "     <output id=\"result-e0db274c-c46f-42ac-87f1-cbccf558ff20\">\n",
              "      Upload widget is only available when the cell has been executed in the\n",
              "      current browser session. Please rerun this cell to enable.\n",
              "      </output>\n",
              "      <script>// Copyright 2017 Google LLC\n",
              "//\n",
              "// Licensed under the Apache License, Version 2.0 (the \"License\");\n",
              "// you may not use this file except in compliance with the License.\n",
              "// You may obtain a copy of the License at\n",
              "//\n",
              "//      http://www.apache.org/licenses/LICENSE-2.0\n",
              "//\n",
              "// Unless required by applicable law or agreed to in writing, software\n",
              "// distributed under the License is distributed on an \"AS IS\" BASIS,\n",
              "// WITHOUT WARRANTIES OR CONDITIONS OF ANY KIND, either express or implied.\n",
              "// See the License for the specific language governing permissions and\n",
              "// limitations under the License.\n",
              "\n",
              "/**\n",
              " * @fileoverview Helpers for google.colab Python module.\n",
              " */\n",
              "(function(scope) {\n",
              "function span(text, styleAttributes = {}) {\n",
              "  const element = document.createElement('span');\n",
              "  element.textContent = text;\n",
              "  for (const key of Object.keys(styleAttributes)) {\n",
              "    element.style[key] = styleAttributes[key];\n",
              "  }\n",
              "  return element;\n",
              "}\n",
              "\n",
              "// Max number of bytes which will be uploaded at a time.\n",
              "const MAX_PAYLOAD_SIZE = 100 * 1024;\n",
              "\n",
              "function _uploadFiles(inputId, outputId) {\n",
              "  const steps = uploadFilesStep(inputId, outputId);\n",
              "  const outputElement = document.getElementById(outputId);\n",
              "  // Cache steps on the outputElement to make it available for the next call\n",
              "  // to uploadFilesContinue from Python.\n",
              "  outputElement.steps = steps;\n",
              "\n",
              "  return _uploadFilesContinue(outputId);\n",
              "}\n",
              "\n",
              "// This is roughly an async generator (not supported in the browser yet),\n",
              "// where there are multiple asynchronous steps and the Python side is going\n",
              "// to poll for completion of each step.\n",
              "// This uses a Promise to block the python side on completion of each step,\n",
              "// then passes the result of the previous step as the input to the next step.\n",
              "function _uploadFilesContinue(outputId) {\n",
              "  const outputElement = document.getElementById(outputId);\n",
              "  const steps = outputElement.steps;\n",
              "\n",
              "  const next = steps.next(outputElement.lastPromiseValue);\n",
              "  return Promise.resolve(next.value.promise).then((value) => {\n",
              "    // Cache the last promise value to make it available to the next\n",
              "    // step of the generator.\n",
              "    outputElement.lastPromiseValue = value;\n",
              "    return next.value.response;\n",
              "  });\n",
              "}\n",
              "\n",
              "/**\n",
              " * Generator function which is called between each async step of the upload\n",
              " * process.\n",
              " * @param {string} inputId Element ID of the input file picker element.\n",
              " * @param {string} outputId Element ID of the output display.\n",
              " * @return {!Iterable<!Object>} Iterable of next steps.\n",
              " */\n",
              "function* uploadFilesStep(inputId, outputId) {\n",
              "  const inputElement = document.getElementById(inputId);\n",
              "  inputElement.disabled = false;\n",
              "\n",
              "  const outputElement = document.getElementById(outputId);\n",
              "  outputElement.innerHTML = '';\n",
              "\n",
              "  const pickedPromise = new Promise((resolve) => {\n",
              "    inputElement.addEventListener('change', (e) => {\n",
              "      resolve(e.target.files);\n",
              "    });\n",
              "  });\n",
              "\n",
              "  const cancel = document.createElement('button');\n",
              "  inputElement.parentElement.appendChild(cancel);\n",
              "  cancel.textContent = 'Cancel upload';\n",
              "  const cancelPromise = new Promise((resolve) => {\n",
              "    cancel.onclick = () => {\n",
              "      resolve(null);\n",
              "    };\n",
              "  });\n",
              "\n",
              "  // Wait for the user to pick the files.\n",
              "  const files = yield {\n",
              "    promise: Promise.race([pickedPromise, cancelPromise]),\n",
              "    response: {\n",
              "      action: 'starting',\n",
              "    }\n",
              "  };\n",
              "\n",
              "  cancel.remove();\n",
              "\n",
              "  // Disable the input element since further picks are not allowed.\n",
              "  inputElement.disabled = true;\n",
              "\n",
              "  if (!files) {\n",
              "    return {\n",
              "      response: {\n",
              "        action: 'complete',\n",
              "      }\n",
              "    };\n",
              "  }\n",
              "\n",
              "  for (const file of files) {\n",
              "    const li = document.createElement('li');\n",
              "    li.append(span(file.name, {fontWeight: 'bold'}));\n",
              "    li.append(span(\n",
              "        `(${file.type || 'n/a'}) - ${file.size} bytes, ` +\n",
              "        `last modified: ${\n",
              "            file.lastModifiedDate ? file.lastModifiedDate.toLocaleDateString() :\n",
              "                                    'n/a'} - `));\n",
              "    const percent = span('0% done');\n",
              "    li.appendChild(percent);\n",
              "\n",
              "    outputElement.appendChild(li);\n",
              "\n",
              "    const fileDataPromise = new Promise((resolve) => {\n",
              "      const reader = new FileReader();\n",
              "      reader.onload = (e) => {\n",
              "        resolve(e.target.result);\n",
              "      };\n",
              "      reader.readAsArrayBuffer(file);\n",
              "    });\n",
              "    // Wait for the data to be ready.\n",
              "    let fileData = yield {\n",
              "      promise: fileDataPromise,\n",
              "      response: {\n",
              "        action: 'continue',\n",
              "      }\n",
              "    };\n",
              "\n",
              "    // Use a chunked sending to avoid message size limits. See b/62115660.\n",
              "    let position = 0;\n",
              "    do {\n",
              "      const length = Math.min(fileData.byteLength - position, MAX_PAYLOAD_SIZE);\n",
              "      const chunk = new Uint8Array(fileData, position, length);\n",
              "      position += length;\n",
              "\n",
              "      const base64 = btoa(String.fromCharCode.apply(null, chunk));\n",
              "      yield {\n",
              "        response: {\n",
              "          action: 'append',\n",
              "          file: file.name,\n",
              "          data: base64,\n",
              "        },\n",
              "      };\n",
              "\n",
              "      let percentDone = fileData.byteLength === 0 ?\n",
              "          100 :\n",
              "          Math.round((position / fileData.byteLength) * 100);\n",
              "      percent.textContent = `${percentDone}% done`;\n",
              "\n",
              "    } while (position < fileData.byteLength);\n",
              "  }\n",
              "\n",
              "  // All done.\n",
              "  yield {\n",
              "    response: {\n",
              "      action: 'complete',\n",
              "    }\n",
              "  };\n",
              "}\n",
              "\n",
              "scope.google = scope.google || {};\n",
              "scope.google.colab = scope.google.colab || {};\n",
              "scope.google.colab._files = {\n",
              "  _uploadFiles,\n",
              "  _uploadFilesContinue,\n",
              "};\n",
              "})(self);\n",
              "</script> "
            ],
            "text/plain": [
              "<IPython.core.display.HTML object>"
            ]
          },
          "metadata": {},
          "output_type": "display_data"
        },
        {
          "name": "stdout",
          "output_type": "stream",
          "text": [
            "Saving sol.jpeg to sol.jpeg\n"
          ]
        }
      ],
      "source": [
        "uploaded = files.upload()"
      ]
    },
    {
      "cell_type": "code",
      "execution_count": 45,
      "metadata": {
        "colab": {
          "base_uri": "https://localhost:8080/",
          "height": 469
        },
        "id": "FnRcgjZLuT_O",
        "outputId": "a9ba2163-07ea-4161-f645-e7a88a330ce4"
      },
      "outputs": [
        {
          "data": {
            "image/jpeg": "[encoded data removed]",
            "text/plain": [
              "<IPython.core.display.Image object>"
            ]
          },
          "execution_count": 45,
          "metadata": {
            "image/jpeg": {
              "width": 600
            }
          },
          "output_type": "execute_result"
        }
      ],
      "source": [
        "Image('sol.jpeg',width =600)"
      ]
    },
    {
      "cell_type": "code",
      "execution_count": null,
      "metadata": {
        "id": "x3JjXfgCunqJ"
      },
      "outputs": [],
      "source": [
        "from functools import reduce\n",
        "\n",
        "numbers = [47, 11, 42, 13]\n",
        "result = reduce(lambda x, y: x + y, numbers)\n",
        "print(result)"
      ]
    },
    {
      "cell_type": "markdown",
      "metadata": {
        "id": "Uw9m-F0H7gfw"
      },
      "source": [
        "Practical Questions"
      ]
    },
    {
      "cell_type": "markdown",
      "metadata": {
        "id": "j-LzbwPm7v3Q"
      },
      "source": [
        "1. Write a Python function that takes a list of numbers as input and returns the sum of all even numbers in\n",
        "the list.\n",
        "\n"
      ]
    },
    {
      "cell_type": "code",
      "execution_count": 46,
      "metadata": {
        "colab": {
          "base_uri": "https://localhost:8080/"
        },
        "id": "-9dLTxfU7wpE",
        "outputId": "58f362dd-4321-4520-918c-55f2df80e351"
      },
      "outputs": [
        {
          "name": "stdout",
          "output_type": "stream",
          "text": [
            "Sum of even numbers: 66\n"
          ]
        }
      ],
      "source": [
        "def sum_of_even_numbers(numbers):\n",
        "    even_sum = sum([num for num in numbers if num % 2 == 0])\n",
        "    return even_sum\n",
        "\n",
        "# Example usage\n",
        "numbers_list = [47, 11, 42, 13, 18, 6]\n",
        "result = sum_of_even_numbers(numbers_list)\n",
        "print(\"Sum of even numbers:\", result)\n"
      ]
    },
    {
      "cell_type": "markdown",
      "metadata": {
        "id": "oEePhbiE7-Q3"
      },
      "source": [
        "2. Create a Python function that accepts a string and returns the reverse of that string."
      ]
    },
    {
      "cell_type": "code",
      "execution_count": 47,
      "metadata": {
        "colab": {
          "base_uri": "https://localhost:8080/"
        },
        "id": "TAdTx0ZC8CVm",
        "outputId": "5aa56aed-1c74-4c64-f240-ac880318c841"
      },
      "outputs": [
        {
          "name": "stdout",
          "output_type": "stream",
          "text": [
            "Reversed string: !dlroW ,olleH\n"
          ]
        }
      ],
      "source": [
        "def reverse_string(input_string):\n",
        "\n",
        "    reversed_string = input_string[::-1]\n",
        "    return reversed_string\n",
        "\n",
        "# Example usage\n",
        "input_str = \"Hello, World!\"\n",
        "result = reverse_string(input_str)\n",
        "print(\"Reversed string:\", result)\n"
      ]
    },
    {
      "cell_type": "markdown",
      "metadata": {
        "id": "HzN_y9wG8MaN"
      },
      "source": [
        "3. Implement a Python function that takes a list of integers and returns a new list containing the squares of\n",
        "each number."
      ]
    },
    {
      "cell_type": "code",
      "execution_count": 48,
      "metadata": {
        "colab": {
          "base_uri": "https://localhost:8080/"
        },
        "id": "iYJjgF3T8Otx",
        "outputId": "1750ac23-3510-4341-925f-1be389c8afdb"
      },
      "outputs": [
        {
          "name": "stdout",
          "output_type": "stream",
          "text": [
            "Squared numbers: [4, 9, 16, 25]\n"
          ]
        }
      ],
      "source": [
        "def square_numbers(numbers):\n",
        "\n",
        "    squared_numbers = [num ** 2 for num in numbers]\n",
        "    return squared_numbers\n",
        "\n",
        "# Example usage\n",
        "numbers_list = [2, 3, 4, 5]\n",
        "result = square_numbers(numbers_list)\n",
        "print(\"Squared numbers:\", result)\n"
      ]
    },
    {
      "cell_type": "markdown",
      "metadata": {
        "id": "Sco4UTWX8bVQ"
      },
      "source": [
        "4. Write a Python function that checks if a given number is prime or not from 1 to 200."
      ]
    },
    {
      "cell_type": "code",
      "execution_count": 51,
      "metadata": {
        "colab": {
          "base_uri": "https://localhost:8080/"
        },
        "id": "XO9tV6rB8dtV",
        "outputId": "091491e1-0867-409e-bbd1-86d5f834a25d"
      },
      "outputs": [
        {
          "name": "stdout",
          "output_type": "stream",
          "text": [
            "Prime numbers from 1 to 200: [2, 3, 5, 7, 11, 13, 17, 19, 23, 29, 31, 37, 41, 43, 47, 53, 59, 61, 67, 71, 73, 79, 83, 89, 97, 101, 103, 107, 109, 113, 127, 131, 137, 139, 149, 151, 157, 163, 167, 173, 179, 181, 191, 193, 197, 199]\n"
          ]
        }
      ],
      "source": [
        "def is_prime(number):\n",
        "    if number <= 1:\n",
        "        return False\n",
        "    if number == 2:\n",
        "        return True\n",
        "    if number % 2 == 0:\n",
        "        return False\n",
        "\n",
        "    # Check divisibility from 3 up to the square root of the number\n",
        "    for i in range(3, int(number ** 0.5) + 1, 2):  # Square root of the number\n",
        "        if number % i == 0:\n",
        "            return False\n",
        "    return True\n",
        "\n",
        "# Function to check prime numbers between 1 and 200\n",
        "def prime_numbers_in_range():\n",
        "    primes = []\n",
        "    for num in range(1, 201):\n",
        "        if is_prime(num):\n",
        "            primes.append(num)\n",
        "    return primes\n",
        "\n",
        "# Example usage\n",
        "prime_numbers = prime_numbers_in_range()\n",
        "print(\"Prime numbers from 1 to 200:\", prime_numbers)\n"
      ]
    },
    {
      "cell_type": "markdown",
      "metadata": {
        "id": "7Sxk0ivt9X4p"
      },
      "source": [
        "5. Create an iterator class in Python that generates the Fibonacci sequence up to a specified number of\n",
        "terms."
      ]
    },
    {
      "cell_type": "code",
      "execution_count": 52,
      "metadata": {
        "colab": {
          "base_uri": "https://localhost:8080/"
        },
        "id": "Z_MzkTe58qUL",
        "outputId": "3c788f37-ee84-49f5-e7c3-d14cd70d25a9"
      },
      "outputs": [
        {
          "name": "stdout",
          "output_type": "stream",
          "text": [
            "First 10 terms of the Fibonacci sequence:\n",
            "0 1 1 1 2 3 5 8 13 21 "
          ]
        }
      ],
      "source": [
        "class FibonacciIterator:\n",
        "    def __init__(self, num_terms):\n",
        "        self.num_terms = num_terms\n",
        "        self.current_term = 0\n",
        "        self.a, self.b = 0, 1\n",
        "\n",
        "    def __iter__(self):\n",
        "        return self  # The iterator object itself\n",
        "\n",
        "    def __next__(self):\n",
        "        if self.current_term >= self.num_terms:\n",
        "            raise StopIteration\n",
        "\n",
        "        # For the first term (0), return `0`\n",
        "        if self.current_term == 0:\n",
        "            self.current_term += 1\n",
        "            return self.a\n",
        "\n",
        "        # For the second term (1), return `1`\n",
        "        elif self.current_term == 1:\n",
        "            self.current_term += 1\n",
        "            return self.b\n",
        "\n",
        "        # For all subsequent terms\n",
        "        else:\n",
        "            self.current_term += 1\n",
        "            next_value = self.a + self.b\n",
        "            self.a, self.b = self.b, next_value\n",
        "            return self.a\n",
        "\n",
        "# Example usage\n",
        "num_terms = 10\n",
        "fib_iterator = FibonacciIterator(num_terms)\n",
        "\n",
        "print(f\"First {num_terms} terms of the Fibonacci sequence:\")\n",
        "for fib in fib_iterator:\n",
        "    print(fib, end=\" \")\n"
      ]
    },
    {
      "cell_type": "code",
      "execution_count": null,
      "metadata": {
        "id": "ilAxWzBQ9m-b"
      },
      "outputs": [],
      "source": []
    },
    {
      "cell_type": "markdown",
      "metadata": {
        "id": "qZSkBFrN9ugR"
      },
      "source": [
        "6. Write a generator function in Python that yields the powers of 2 up to a given exponent"
      ]
    },
    {
      "cell_type": "code",
      "execution_count": 53,
      "metadata": {
        "colab": {
          "base_uri": "https://localhost:8080/"
        },
        "id": "F3zT8eqW9vEK",
        "outputId": "c9b9d833-5998-4802-e385-8bfbcf6eabb9"
      },
      "outputs": [
        {
          "name": "stdout",
          "output_type": "stream",
          "text": [
            "Powers of 2 up to 2^5:\n",
            "1\n",
            "2\n",
            "4\n",
            "8\n",
            "16\n",
            "32\n"
          ]
        }
      ],
      "source": [
        "def powers_of_two(max_exponent):\n",
        "    exponent = 0\n",
        "    while exponent <= max_exponent:\n",
        "        yield 2 ** exponent\n",
        "        exponent += 1\n",
        "\n",
        "# Example usage\n",
        "max_exp = 5\n",
        "print(f\"Powers of 2 up to 2^{max_exp}:\")\n",
        "for power in powers_of_two(max_exp):\n",
        "    print(power)\n"
      ]
    },
    {
      "cell_type": "markdown",
      "metadata": {
        "id": "T0vgBWyo909M"
      },
      "source": [
        "7. Implement a generator function that reads a file line by line and yields each line as a string."
      ]
    },
    {
      "cell_type": "code",
      "execution_count": 56,
      "metadata": {
        "colab": {
          "base_uri": "https://localhost:8080/"
        },
        "id": "sF7sSFxH9zFU",
        "outputId": "9b13ea82-22fe-40ee-bdce-74ff3be5edcd"
      },
      "outputs": [
        {
          "name": "stdout",
          "output_type": "stream",
          "text": [
            "The file example.txt was not found.\n"
          ]
        }
      ],
      "source": [
        "def read_file_line_by_line(file_path):\n",
        "    \"\"\"\n",
        "    A generator function that reads a file line by line and yields each line as a string.\n",
        "\n",
        "    :param file_path: Path to the file to be read.\n",
        "    \"\"\"\n",
        "    try:\n",
        "        with open(file_path, 'r') as file:\n",
        "            for line in file:\n",
        "                yield line\n",
        "    except FileNotFoundError:\n",
        "        print(f\"The file {file_path} was not found.\")\n",
        "    except IOError:\n",
        "        print(f\"An error occurred while trying to read the file {file_path}.\")\n",
        "\n",
        "# Example usage\n",
        "file_path = 'example.txt'  # Replace with your file path\n",
        "for line in read_file_line_by_line(file_path):\n",
        "    print(line, end='')  # Use `end=''` to avoid adding extra newlines\n",
        "\n"
      ]
    },
    {
      "cell_type": "markdown",
      "metadata": {
        "id": "MlHKX844-0qu"
      },
      "source": [
        "8. Use a lambda function in Python to sort a list of tuples based on the second element of each tuple.\n",
        "\n",
        "> Add blockquote\n",
        "\n"
      ]
    },
    {
      "cell_type": "code",
      "execution_count": 57,
      "metadata": {
        "colab": {
          "base_uri": "https://localhost:8080/"
        },
        "id": "pvXDQ1tJ-1Pd",
        "outputId": "c1f41604-447b-459d-b32a-b8f4e85fc7ef"
      },
      "outputs": [
        {
          "name": "stdout",
          "output_type": "stream",
          "text": [
            "Sorted list based on the second element: [(4, 1), (5, 2), (1, 3), (3, 4)]\n"
          ]
        }
      ],
      "source": [
        "# List of tuples\n",
        "tuples_list = [(1, 3), (4, 1), (5, 2), (3, 4)]\n",
        "\n",
        "# Sort the list of tuples based on the second element of each tuple\n",
        "sorted_list = sorted(tuples_list, key=lambda x: x[1])\n",
        "\n",
        "print(\"Sorted list based on the second element:\", sorted_list)\n"
      ]
    },
    {
      "cell_type": "markdown",
      "metadata": {
        "id": "BXuAEsLT_GvI"
      },
      "source": [
        "9. Write a Python program that uses `map()` to convert a list of temperatures from Celsius to Fahrenheit."
      ]
    },
    {
      "cell_type": "code",
      "execution_count": 58,
      "metadata": {
        "colab": {
          "base_uri": "https://localhost:8080/"
        },
        "id": "UDxXSPWE_Kzh",
        "outputId": "7808390f-79a1-4bc0-87c5-8e6f5b01254e"
      },
      "outputs": [
        {
          "name": "stdout",
          "output_type": "stream",
          "text": [
            "Temperatures in Fahrenheit: [32.0, 68.0, 98.6, 212.0]\n"
          ]
        }
      ],
      "source": [
        "def celsius_to_fahrenheit(celsius):\n",
        "    return (celsius * 9/5) + 32\n",
        "\n",
        "# List of temperatures in Celsius\n",
        "celsius_temps = [0, 20, 37, 100]\n",
        "\n",
        "# Convert Celsius to Fahrenheit using map() function\n",
        "fahrenheit_temps = map(celsius_to_fahrenheit, celsius_temps)\n",
        "\n",
        "# Convert the map object to a list and print it\n",
        "fahrenheit_temps_list = list(fahrenheit_temps)\n",
        "print(\"Temperatures in Fahrenheit:\", fahrenheit_temps_list)\n"
      ]
    },
    {
      "cell_type": "markdown",
      "metadata": {
        "id": "mla9tyIL_jZz"
      },
      "source": [
        "10. Create a Python program that uses `filter()` to remove all the vowels from a given string."
      ]
    },
    {
      "cell_type": "code",
      "execution_count": 60,
      "metadata": {
        "colab": {
          "base_uri": "https://localhost:8080/"
        },
        "id": "Z5R5GumH_n1E",
        "outputId": "4b0c406a-b4b8-42d0-b2d2-3423b23afb77"
      },
      "outputs": [
        {
          "name": "stdout",
          "output_type": "stream",
          "text": [
            "String without vowels: Hll, Wrld!\n"
          ]
        }
      ],
      "source": [
        "def is_not_vowel(char):\n",
        "    vowels = 'aeiouAEIOU'\n",
        "    return char not in vowels\n",
        "\n",
        "def remove_vowels(input_string):\n",
        "    filtered_chars = filter(is_not_vowel, input_string)\n",
        "\n",
        "    return ''.join(filtered_chars)\n",
        "\n",
        "# Example usage\n",
        "input_string = \"Hello, World!\"\n",
        "result_string = remove_vowels(input_string)\n",
        "print(\"String without vowels:\", result_string)\n"
      ]
    },
    {
      "cell_type": "markdown",
      "metadata": {
        "id": "ca7OdvKu_2ZQ"
      },
      "source": [
        "11) Imagine an accounting routine used in a book shop. It works on a list with sublists, which look like this:\n",
        "\n",
        "\n",
        "\n",
        "\n",
        "\n",
        "\n",
        "\n",
        "Write a Python program, which returns a list with 2-tuples. Each tuple consists of the order number and the\n",
        "product of the price per item and the quantity. The product should be increased by 10,- € if the value of the\n",
        "order is smaller than 100,00 €.\n",
        "\n",
        "Write a Python program using lambda and map."
      ]
    },
    {
      "cell_type": "code",
      "execution_count": 62,
      "metadata": {
        "colab": {
          "base_uri": "https://localhost:8080/"
        },
        "id": "usHvRivz_6px",
        "outputId": "8e868c38-6647-431a-ccec-b93818e06319"
      },
      "outputs": [
        {
          "name": "stdout",
          "output_type": "stream",
          "text": [
            "Order Number        Book Title and Author                             Quantity  Price per Item (€)  \n",
            "34587               Learning Python, Mark jutz                        4         40.95               \n",
            "98762               To Kill a Mockingbird, Harper Lee                 7         15.0                \n",
            "77226               1984, George Orwell                               1         50.0                \n",
            "88112               Animal Farm, George Orwell                        20        5.0                 \n"
          ]
        }
      ],
      "source": [
        "# List of orders with sublists [order number, book title, author, price per item, quantity]\n",
        "orders = [\n",
        "    [34587, \"Learning Python\", \"Mark lutz\", 40.95, 4],\n",
        "    [98762, \"Programming Python\", \"Mark lutz\", 56.80, 5],\n",
        "    [77226, \"Head First Python\", \"Paul Berry\", 32.95, 3],\n",
        "    [88112, \"Einfurung in Python3\", \"Berned clein\", 24.99, 3],\n",
        "]\n",
        "\n",
        "# Lambda function to calculate total and add 10€ if the total is less than 100€\n",
        "calculate_total = lambda order: order[3] * order[4] + (10 if order[3] * order[4] < 100 else 0)\n",
        "\n",
        "# Using map to generate the list of tuples with order numbers and calculated totals\n",
        "order_totals = list(map(lambda order: (order[0], f\"{order[1]}, {order[2]}\", order[4], order[3]), orders))\n",
        "\n",
        "# Printing the results in a row and column format with additional space\n",
        "print(f\"{'Order Number':<20}{'Book Title and Author':<50}{'Quantity':<10}{'Price per Item (€)':<20}\")\n",
        "for order in order_totals:\n",
        "    print(f\"{order[0]:<20}{order[1]:<50}{order[2]:<10}{order[3]:<20}\")\n"
      ]
    },
    {
      "cell_type": "code",
      "execution_count": null,
      "metadata": {
        "id": "8f2Pp4iW_9eM"
      },
      "outputs": [],
      "source": []
    }
  ],
  "metadata": {
    "colab": {
      "provenance": []
    },
    "kernelspec": {
      "display_name": "Python 3",
      "name": "python3"
    },
    "language_info": {
      "name": "python"
    }
  },
  "nbformat": 4,
  "nbformat_minor": 0
}
